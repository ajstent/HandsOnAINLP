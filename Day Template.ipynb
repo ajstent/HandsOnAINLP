{
 "cells": [
  {
   "cell_type": "markdown",
   "id": "aabdc4bf",
   "metadata": {},
   "source": [
    "## Getting Started Activity\n"
   ]
  },
  {
   "cell_type": "markdown",
   "id": "10b195f1",
   "metadata": {},
   "source": [
    "## Group Activity\n"
   ]
  },
  {
   "cell_type": "markdown",
   "id": "0aaa36e3",
   "metadata": {},
   "source": [
    "## BREAK\n"
   ]
  },
  {
   "cell_type": "markdown",
   "id": "52ffcb67",
   "metadata": {},
   "source": [
    "## Group Discussion\n"
   ]
  },
  {
   "cell_type": "markdown",
   "id": "74d58819",
   "metadata": {},
   "source": [
    "## Summary Discussion and Self-Assessment"
   ]
  },
  {
   "cell_type": "code",
   "execution_count": 1,
   "id": "b545737b",
   "metadata": {},
   "outputs": [
    {
     "name": "stderr",
     "output_type": "stream",
     "text": [
      "'pwd' is not recognized as an internal or external command,\n",
      "operable program or batch file.\n"
     ]
    }
   ],
   "source": []
  },
  {
   "cell_type": "code",
   "execution_count": null,
   "id": "11448cb7",
   "metadata": {},
   "outputs": [],
   "source": []
  }
 ],
 "metadata": {
  "kernelspec": {
   "display_name": "Python 3 (ipykernel)",
   "language": "python",
   "name": "python3"
  },
  "language_info": {
   "codemirror_mode": {
    "name": "ipython",
    "version": 3
   },
   "file_extension": ".py",
   "mimetype": "text/x-python",
   "name": "python",
   "nbconvert_exporter": "python",
   "pygments_lexer": "ipython3",
   "version": "3.9.12"
  }
 },
 "nbformat": 4,
 "nbformat_minor": 5
}
